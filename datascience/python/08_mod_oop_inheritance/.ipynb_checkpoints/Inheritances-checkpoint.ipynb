{
 "cells": [
  {
   "cell_type": "code",
   "execution_count": 108,
   "id": "e037a473",
   "metadata": {
    "scrolled": true
   },
   "outputs": [
    {
     "name": "stdout",
     "output_type": "stream",
     "text": [
      "First name: David\n",
      "Last name: Benitoe\n",
      "Your Id : 12\n",
      "Enter a list grades separated by space: 92 88 85 96 90\n",
      "David Benitoe Student ID 12, you got a A\n"
     ]
    }
   ],
   "source": [
    "class Person:\n",
    "    def __init__(self, first, last):\n",
    "        self.first = first\n",
    "        self.last = last\n",
    "        self.fname = ('First name:' + ' ' + first)\n",
    "        self.lname = ('Last name:' + ' ' + last)\n",
    "\n",
    "\n",
    "class Student(Person):\n",
    "    def __init__(self, first, last, Id, grades):\n",
    "        super().__init__(first, last)\n",
    "        self.Id = Id\n",
    "        self.grades = grades\n",
    "        \n",
    "\n",
    "    def calc(self):\n",
    "        user_inputs = str(input('Enter a list grades separated by space: '))\n",
    "        input_toarray = user_inputs.split(' ')\n",
    "        sum = 0\n",
    "        gradestring = \"\"\n",
    "        for number in input_toarray:\n",
    "            #print(number)\n",
    "            sum = sum + int(number)\n",
    "            average = sum/len(input_toarray)\n",
    "\n",
    "        \n",
    "    \n",
    "        average = sum / len(input_toarray)\n",
    "\n",
    "        if average >= 90:\n",
    "            average_l_grade = 'A'\n",
    "        elif 80 <= average <= 89:\n",
    "            average_l_grade = 'B'\n",
    "        elif 70 <= average <= 79:\n",
    "            average_l_grade = 'C'\n",
    "        elif 60 <= average <= 69:\n",
    "            average_l_grade = 'D'\n",
    "        elif average<60:\n",
    "            average_l_grade = 'F'\n",
    "        return average_l_grade\n",
    "\n",
    "\n",
    "grade = [92, 88, 85, 96, 90]\n",
    "S_1 = Student('David', 'Benitoe', 12, grade)\n",
    "\n",
    "print(S_1.fname)\n",
    "print(S_1.lname)\n",
    "print('Your Id :',S_1.Id)\n",
    "print('{} {} Student ID {}, you got a {}'.format(S_1.first,S_1.last,S_1.Id,S_1.calc()))\n",
    "\n"
   ]
  },
  {
   "cell_type": "code",
   "execution_count": null,
   "id": "5a012e02",
   "metadata": {},
   "outputs": [],
   "source": []
  },
  {
   "cell_type": "code",
   "execution_count": null,
   "id": "01737563",
   "metadata": {},
   "outputs": [],
   "source": []
  }
 ],
 "metadata": {
  "kernelspec": {
   "display_name": "Python 3 (ipykernel)",
   "language": "python",
   "name": "python3"
  },
  "language_info": {
   "codemirror_mode": {
    "name": "ipython",
    "version": 3
   },
   "file_extension": ".py",
   "mimetype": "text/x-python",
   "name": "python",
   "nbconvert_exporter": "python",
   "pygments_lexer": "ipython3",
   "version": "3.9.12"
  }
 },
 "nbformat": 4,
 "nbformat_minor": 5
}
