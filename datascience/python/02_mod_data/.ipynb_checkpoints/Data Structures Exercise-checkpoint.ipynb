{
 "cells": [
  {
   "cell_type": "markdown",
   "id": "065bf767",
   "metadata": {},
   "source": [
    "Exercise 1\n",
    "In mathematics, the quadratic equation ax2+bx+c=0 can be solved with the formula x=−b±b2−4ac√2a.\n",
    "\n",
    "Write a function solve_quadratic, that returns both solutions of a generic quadratic as a pair (2-tuple) when the coefficients are given as parameters. It should work like thi"
   ]
  },
  {
   "cell_type": "code",
   "execution_count": 41,
   "id": "69aa4d16",
   "metadata": {},
   "outputs": [
    {
     "name": "stdout",
     "output_type": "stream",
     "text": [
      "(-7.0, 0.5)\n"
     ]
    }
   ],
   "source": [
    "from math import sqrt\n",
    "import math\n",
    "def solve_quadratic (a,b,c):\n",
    "    x1=(-b+2*b-(4*a*c)/(2*a))\n",
    "    x2=(-b-2*b-(4*a*c))/(2*a)\n",
    "    return x1,x2\n",
    "print(solve_quadratic(1,-3,2))"
   ]
  },
  {
   "cell_type": "markdown",
   "id": "af1bf17a",
   "metadata": {},
   "source": [
    "Exercise 2\n",
    "Get a space-separated list of integers from the user, create a tuple of those integers. Then compute and print the result of hash(tuple)."
   ]
  },
  {
   "cell_type": "code",
   "execution_count": 44,
   "id": "d9c19d27",
   "metadata": {},
   "outputs": [
    {
     "name": "stdout",
     "output_type": "stream",
     "text": [
      "Choose an interger: 11\n",
      "Choose an interger: 22\n",
      "Choose an interger: 33\n",
      "Choose an interger: 55\n",
      "[11, 22, 33, 55]\n"
     ]
    },
    {
     "data": {
      "text/plain": [
       "8794178661266"
      ]
     },
     "execution_count": 44,
     "metadata": {},
     "output_type": "execute_result"
    }
   ],
   "source": [
    "L=[]\n",
    "a=int(input (\"Choose an interger: \"))\n",
    "b=int(input (\"Choose an interger: \"))\n",
    "c=int(input (\"Choose an interger: \"))\n",
    "d=int(input (\"Choose an interger: \"))\n",
    "L.append(a)\n",
    "L.append(b)\n",
    "L.append(c)\n",
    "L.append(d)\n",
    "print(L)\n",
    "tuple(L)\n",
    "hash(tuple)"
   ]
  },
  {
   "cell_type": "markdown",
   "id": "5b6303e1",
   "metadata": {},
   "source": [
    "Exercise 3\n",
    "Take the following two lists. Create a third list by picking a odd-index elements from the first list and even-index elements from the second."
   ]
  },
  {
   "cell_type": "code",
   "execution_count": 26,
   "id": "5e0cc037",
   "metadata": {},
   "outputs": [
    {
     "name": "stdout",
     "output_type": "stream",
     "text": [
      "[6, 12, 18]\n",
      "[4, 12, 20, 28]\n",
      "[6, 12, 18, 4, 12, 20, 28]\n"
     ]
    }
   ],
   "source": [
    "listOne = [3, 6, 9, 12, 15, 18, 21]\n",
    "listTwo = [4, 8, 12, 16, 20, 24, 28]\n",
    "listThree= listOne[1::2]+ listTwo [::2]\n",
    "print(listOne[1::2])\n",
    "print(listTwo[::2])\n",
    "#for i in listOne:\n",
    "    #if i%2==0:\n",
    "        #listThree.append(i)\n",
    "#for i in listTwo:\n",
    "    #if i%3==0:\n",
    "        #listThree.append(i)\n",
    "    #print(listThree)\n",
    "print(listThree)"
   ]
  },
  {
   "cell_type": "markdown",
   "id": "8625198e",
   "metadata": {},
   "source": [
    "Exercise 4\n",
    "Take the following list. Slice it into three equal chunks and reverse each list."
   ]
  },
  {
   "cell_type": "code",
   "execution_count": 37,
   "id": "fb40823b",
   "metadata": {},
   "outputs": [
    {
     "name": "stdout",
     "output_type": "stream",
     "text": [
      "[8, 45, 11] [12, 14, 23] [89, 45, 78]\n"
     ]
    }
   ],
   "source": [
    "sL = [11, 45, 8, 23, 14, 12, 78, 45, 89]\n",
    "L1=sL[0:3]\n",
    "L1.reverse()\n",
    "\n",
    "L2=sL[3:6]\n",
    "L2.reverse()\n",
    "\n",
    "L3=sL[6:9]\n",
    "L3.reverse()\n",
    "\n",
    "print(L1,L2,L3)\n",
    "\n",
    "\n"
   ]
  },
  {
   "cell_type": "markdown",
   "id": "e1472d72",
   "metadata": {},
   "source": [
    "Exercise 5\n",
    "Iterate through a given list and check if a given element already exists in a dictionary as a key’s value. If not, delete it from the list."
   ]
  },
  {
   "cell_type": "code",
   "execution_count": 28,
   "id": "0b3a62f2",
   "metadata": {},
   "outputs": [
    {
     "name": "stdout",
     "output_type": "stream",
     "text": [
      "[47, 69, 76, 95, 97]\n"
     ]
    }
   ],
   "source": [
    "rollNumber = [47, 64, 69, 37, 76, 83, 95, 97]\n",
    "sampleDict ={'Zach':47, 'Emma':69, 'Kelly':76, 'Jason':97}\n",
    "\n",
    "for n in rollNumber:\n",
    "    #check if a given element already exists in sampleDict as the key, n's value pair.\n",
    "    if n not in sampleDict.values():\n",
    "        #if an element already exists in the given dict then we remove it\n",
    "        rollNumber.remove(n) \n",
    "    #if n is in sampleDict.values, continue\n",
    "    else:\n",
    "        continue\n",
    "\n",
    "print(rollNumber)\n",
    "\n"
   ]
  }
 ],
 "metadata": {
  "kernelspec": {
   "display_name": "Python 3 (ipykernel)",
   "language": "python",
   "name": "python3"
  },
  "language_info": {
   "codemirror_mode": {
    "name": "ipython",
    "version": 3
   },
   "file_extension": ".py",
   "mimetype": "text/x-python",
   "name": "python",
   "nbconvert_exporter": "python",
   "pygments_lexer": "ipython3",
   "version": "3.9.12"
  }
 },
 "nbformat": 4,
 "nbformat_minor": 5
}
