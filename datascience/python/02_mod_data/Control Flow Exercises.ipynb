{
 "cells": [
  {
   "cell_type": "markdown",
   "id": "e7218af1",
   "metadata": {},
   "source": [
    "Exercise 1:\n",
    "Guess a number between 1 to 9 given by the user"
   ]
  },
  {
   "cell_type": "code",
   "execution_count": 46,
   "id": "e4a2b689",
   "metadata": {},
   "outputs": [
    {
     "name": "stdout",
     "output_type": "stream",
     "text": [
      "Guess a number:5\n",
      "Incorrect!\n"
     ]
    }
   ],
   "source": [
    "from random import randint as rt\n",
    "n= rt(1,9)\n",
    "gn= int(input(\"Guess a number:\"))\n",
    "while True:\n",
    "    if n==gn:\n",
    "        print(\"Correct!\")\n",
    "        break\n",
    "    else:\n",
    "        print(\"Incorrect!\")\n",
    "        break "
   ]
  },
  {
   "cell_type": "markdown",
   "id": "30b1920f",
   "metadata": {},
   "source": [
    "Exercise 2:\n",
    "Check the validity of password input by the user.\n",
    "Validation:\n",
    "\n",
    "At least 1 letter between [a-z] and 1 letter between [A-Z]\n",
    "At least 1 number between [0-9]\n",
    "At least 1 character from [$#@]\n",
    "Minimum length 6 characters\n",
    "Maximum length 16 characters"
   ]
  },
  {
   "cell_type": "code",
   "execution_count": 37,
   "id": "5e3de871",
   "metadata": {},
   "outputs": [
    {
     "name": "stdout",
     "output_type": "stream",
     "text": [
      "Enter Password :BobMarley12\n",
      "Not a Valid Password\n"
     ]
    }
   ],
   "source": [
    "import re \n",
    "passw = input(\"Enter Password :\")\n",
    "fl = 0\n",
    "while True:   \n",
    "    if (6<len(passw)<16): \n",
    "      fl= -1\n",
    "      break\n",
    "    elif not re.search(\"[a-z]\", passw): \n",
    "      fl = -1\n",
    "      break\n",
    "    elif not re.search(\"[A-Z]\", passw): \n",
    "        fl = -1\n",
    "        break\n",
    "    elif not re.search(\"[0-9]\", passw): \n",
    "      fl = -1\n",
    "      break\n",
    "    elif not re.search(\"[_@$]\", passw): \n",
    "      fl = -1\n",
    "      break\n",
    "    elif re.search(\"\\s\", passw): \n",
    "      fl = -1\n",
    "      break\n",
    "    else: \n",
    "      fl = 0\n",
    "      print(\" This Is Valid Password\") \n",
    "      break\n",
    "if fl ==-1: \n",
    "    print(\"Not a Valid Password\") "
   ]
  },
  {
   "cell_type": "markdown",
   "id": "5e0c4ded",
   "metadata": {},
   "source": [
    "Exercise 3:\n",
    "Get input of the age of 3 people by user and determine oldest and youngest among them"
   ]
  },
  {
   "cell_type": "code",
   "execution_count": 3,
   "id": "0408fb3c",
   "metadata": {},
   "outputs": [
    {
     "name": "stdout",
     "output_type": "stream",
     "text": [
      "Enter First Person's Age : 22\n",
      "Enter Second Person's Age : 55\n",
      "Enter Third Person's Age : 21\n",
      "(22, 55, 21)\n"
     ]
    },
    {
     "data": {
      "text/plain": [
       "[21, 22, 55]"
      ]
     },
     "execution_count": 3,
     "metadata": {},
     "output_type": "execute_result"
    }
   ],
   "source": [
    "number1 = int(input(\"Enter First Person's Age : \"))\n",
    "number2 = int(input(\"Enter Second Person's Age : \"))\n",
    "number3 = int(input(\"Enter Third Person's Age : \"))\n",
    "Ages=(number1,number2,number3)\n",
    "print(Ages)\n",
    "sorted(Ages)"
   ]
  },
  {
   "cell_type": "markdown",
   "id": "32d00e4d",
   "metadata": {},
   "source": [
    "Exercise 4:\n",
    "A student will not be allowed to sit in exam if his/her attendance is less than 75%.\n",
    "Take following input from user\n",
    "\n",
    "Number of classes held\n",
    "Number of classes attended.\n",
    "And print\n",
    "percentage of class attended\n",
    "Is student is allowed to sit in exam or not?"
   ]
  },
  {
   "cell_type": "code",
   "execution_count": 18,
   "id": "2784992d",
   "metadata": {},
   "outputs": [
    {
     "name": "stdout",
     "output_type": "stream",
     "text": [
      "Number of classes held: 30\n",
      "Number of classes attended: 22\n",
      "73%\n",
      "Student is not allowed to sit in exam\n"
     ]
    }
   ],
   "source": [
    "Q1= int(input(\"Number of classes held: \"))\n",
    "Q2= int(input (\"Number of classes attended: \"))\n",
    "P=(Q2/Q1)\n",
    "print (\"{:.0%}\".format(P))\n",
    "message=\"Student is allowed to sit in exam\" if P>=0.75 else \"Student is not allowed to sit in exam\"\n",
    "print(message)\n"
   ]
  },
  {
   "cell_type": "markdown",
   "id": "1a5ae54a",
   "metadata": {},
   "source": [
    "Exercise 5:\n",
    "\n",
    "Get an integer N from the user and perform the following actions:\n",
    "\n",
    "if N is odd, print \"weird\"\n",
    "if N is even and in the inclusive range of 2 to 5, print \"Not Weird\"\n",
    "if N is even and in the inclusive range of 6 to 20, print \"Weird\"\n",
    "if N is even and greater than 20, print \"Not Weird\"\n"
   ]
  },
  {
   "cell_type": "code",
   "execution_count": 15,
   "id": "8286f4af",
   "metadata": {},
   "outputs": [
    {
     "name": "stdout",
     "output_type": "stream",
     "text": [
      "Not Weird\n"
     ]
    }
   ],
   "source": [
    "N=22\n",
    "if N%2==1:\n",
    "    print(\"Weird\")\n",
    "elif N%2==0 and 2<=N<=5:\n",
    "    print(\"Not Weird\")\n",
    "elif N%2==0 and 6<=N<=20:\n",
    "    print(\"Weird\")\n",
    "elif N%2==0 and N>20:\n",
    "    print(\"Not Weird\")\n"
   ]
  }
 ],
 "metadata": {
  "kernelspec": {
   "display_name": "Python 3 (ipykernel)",
   "language": "python",
   "name": "python3"
  },
  "language_info": {
   "codemirror_mode": {
    "name": "ipython",
    "version": 3
   },
   "file_extension": ".py",
   "mimetype": "text/x-python",
   "name": "python",
   "nbconvert_exporter": "python",
   "pygments_lexer": "ipython3",
   "version": "3.9.12"
  }
 },
 "nbformat": 4,
 "nbformat_minor": 5
}
