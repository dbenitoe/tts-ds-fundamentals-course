{
 "cells": [
  {
   "cell_type": "code",
   "execution_count": 1,
   "id": "545abe4d",
   "metadata": {},
   "outputs": [
    {
     "name": "stdout",
     "output_type": "stream",
     "text": [
      "1.2.3\n"
     ]
    }
   ],
   "source": [
    "print(1, 2, 3, sep='.')"
   ]
  },
  {
   "cell_type": "code",
   "execution_count": 28,
   "id": "d80ca841",
   "metadata": {},
   "outputs": [
    {
     "name": "stdout",
     "output_type": "stream",
     "text": [
      "['a']\n"
     ]
    }
   ],
   "source": [
    "L= []\n",
    "L.append(\"a\")\n",
    "print (L)"
   ]
  },
  {
   "cell_type": "code",
   "execution_count": 16,
   "id": "9110b437",
   "metadata": {},
   "outputs": [
    {
     "name": "stdout",
     "output_type": "stream",
     "text": [
      "let's try something:\n"
     ]
    }
   ],
   "source": [
    "try:\n",
    "    print(\"let's try something:\")\n",
    "    x = 0 / 2 # ZeroDivisionError\n",
    "except:\n",
    "    print(\"something bad happened!\")\n",
    "    x =  2 / 0"
   ]
  },
  {
   "cell_type": "code",
   "execution_count": null,
   "id": "238821b6",
   "metadata": {},
   "outputs": [],
   "source": []
  }
 ],
 "metadata": {
  "kernelspec": {
   "display_name": "Python 3 (ipykernel)",
   "language": "python",
   "name": "python3"
  },
  "language_info": {
   "codemirror_mode": {
    "name": "ipython",
    "version": 3
   },
   "file_extension": ".py",
   "mimetype": "text/x-python",
   "name": "python",
   "nbconvert_exporter": "python",
   "pygments_lexer": "ipython3",
   "version": "3.9.12"
  }
 },
 "nbformat": 4,
 "nbformat_minor": 5
}
