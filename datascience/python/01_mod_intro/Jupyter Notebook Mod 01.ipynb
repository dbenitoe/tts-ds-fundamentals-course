{
 "cells": [
  {
   "cell_type": "code",
   "execution_count": 1,
   "id": "9c57d6dc",
   "metadata": {},
   "outputs": [
    {
     "name": "stdout",
     "output_type": "stream",
     "text": [
      "Input your First Name : David\n",
      "Input your Last Name : Benitoe\n",
      "Benitoe David\n"
     ]
    }
   ],
   "source": [
    "firstname = input(\"Input your First Name : \")\n",
    "lastname = input(\"Input your Last Name : \")\n",
    "print (lastname + \" \" + firstname)"
   ]
  },
  {
   "cell_type": "code",
   "execution_count": 32,
   "id": "9f2d797b",
   "metadata": {},
   "outputs": [
    {
     "name": "stdout",
     "output_type": "stream",
     "text": [
      "Input an integer : 2\n",
      "246\n"
     ]
    }
   ],
   "source": [
    "a = int(input(\"Input an integer : \"))\n",
    "n = int( \"%s\" % a )\n",
    "nn = int( \"%s%s\" % (a,a) )\n",
    "nnn = int( \"%s%s%s\" % (a,a,a) )\n",
    "print (n+nn+nnn)"
   ]
  },
  {
   "cell_type": "code",
   "execution_count": 31,
   "id": "9c8dab21",
   "metadata": {},
   "outputs": [],
   "source": [
    "x = 10\n",
    "y = 50\n",
    "if (x ** 2 > 100 and y < 100): \n",
    "    print(x,y)"
   ]
  },
  {
   "cell_type": "code",
   "execution_count": 25,
   "id": "0de6c23d",
   "metadata": {},
   "outputs": [
    {
     "name": "stdout",
     "output_type": "stream",
     "text": [
      "[10, 20, 30, 40]\n",
      "[10, 20, 30, 40]\n"
     ]
    }
   ],
   "source": [
    "a = [10, 20]\n",
    "b = a\n",
    "b += [30, 40]\n",
    "print(a)\n",
    "print(b)"
   ]
  },
  {
   "cell_type": "code",
   "execution_count": 26,
   "id": "3f5d94e5",
   "metadata": {},
   "outputs": [
    {
     "name": "stdout",
     "output_type": "stream",
     "text": [
      "2\n"
     ]
    }
   ],
   "source": [
    "print(2%6)"
   ]
  },
  {
   "cell_type": "code",
   "execution_count": 27,
   "id": "2abeb689",
   "metadata": {},
   "outputs": [
    {
     "name": "stdout",
     "output_type": "stream",
     "text": [
      "216\n"
     ]
    }
   ],
   "source": [
    "print(2 * 3 ** 3 * 4)"
   ]
  },
  {
   "cell_type": "code",
   "execution_count": 36,
   "id": "94a09055",
   "metadata": {},
   "outputs": [
    {
     "name": "stdout",
     "output_type": "stream",
     "text": [
      "What country are you from? : Spain\n",
      "I have heard that 'input' is a beautiful country!\n"
     ]
    }
   ],
   "source": [
    "country=input(\"What country are you from? : \")\n",
    "print ( \"I have heard that 'input' is a beautiful country!\")\n"
   ]
  },
  {
   "cell_type": "code",
   "execution_count": 37,
   "id": "dc8c9558",
   "metadata": {},
   "outputs": [
    {
     "name": "stdout",
     "output_type": "stream",
     "text": [
      "Spain\n"
     ]
    }
   ],
   "source": [
    "print(country)\n"
   ]
  },
  {
   "cell_type": "code",
   "execution_count": null,
   "id": "f4d3d5a6",
   "metadata": {},
   "outputs": [],
   "source": []
  }
 ],
 "metadata": {
  "kernelspec": {
   "display_name": "Python 3 (ipykernel)",
   "language": "python",
   "name": "python3"
  },
  "language_info": {
   "codemirror_mode": {
    "name": "ipython",
    "version": 3
   },
   "file_extension": ".py",
   "mimetype": "text/x-python",
   "name": "python",
   "nbconvert_exporter": "python",
   "pygments_lexer": "ipython3",
   "version": "3.9.12"
  }
 },
 "nbformat": 4,
 "nbformat_minor": 5
}
