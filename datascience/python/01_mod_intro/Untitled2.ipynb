{
 "cells": [
  {
   "cell_type": "code",
   "execution_count": 1,
   "id": "cd64b522",
   "metadata": {},
   "outputs": [
    {
     "name": "stdout",
     "output_type": "stream",
     "text": [
      "On Monday it was rainy and the temperature was 10 degrees celsius.\n",
      "On Tuesday it was rainy and the temperature was 12 degrees celsius.\n",
      "On Wednesday it was sunny and the temperature was 12 degrees celsius.\n",
      "On Thursday it was cloudy and the temperature was 9 degrees celsius.\n",
      "On Friday it was rainy and the temperature was 9 degrees celsius.\n",
      "On Saturday it was sunny and the temperature was 11 degrees celsius.\n",
      "On Sunday it was sunny and the temperature was 11 degrees celsius.\n"
     ]
    }
   ],
   "source": [
    "days=\"Monday Tuesday Wednesday Thursday Friday Saturday Sunday\".split()\n",
    "weathers=\"rainy rainy sunny cloudy rainy sunny sunny\".split()\n",
    "temperatures=[10,12,12,9,9,11,11]\n",
    "for day, weather, temperature in zip(days,weathers,temperatures):\n",
    "    print(f\"On {day} it was {weather} and the temperature was {temperature} degrees celsius.\")\n",
    "\n",
    "# Or equivalently:\n",
    "#for t in zip(days,weathers,temperatures):\n",
    "#    print(\"On {} it was {} and the temperature was {} degrees celsius.\".format(*t))"
   ]
  },
  {
   "cell_type": "code",
   "execution_count": null,
   "id": "16723ea5",
   "metadata": {},
   "outputs": [],
   "source": [
    "L=[1,2,98,5,-1,2,0,5,10]\n",
    "counter = 0\n",
    "for i, x in enumerate(L):\n",
    "    if x == 5:\n",
    "        counter += 1\n",
    "        if counter == 5:\n",
    "            break\n",
    "print (i)"
   ]
  },
  {
   "cell_type": "code",
   "execution_count": null,
   "id": "6b35ad33",
   "metadata": {},
   "outputs": [],
   "source": []
  }
 ],
 "metadata": {
  "kernelspec": {
   "display_name": "Python 3 (ipykernel)",
   "language": "python",
   "name": "python3"
  },
  "language_info": {
   "codemirror_mode": {
    "name": "ipython",
    "version": 3
   },
   "file_extension": ".py",
   "mimetype": "text/x-python",
   "name": "python",
   "nbconvert_exporter": "python",
   "pygments_lexer": "ipython3",
   "version": "3.9.12"
  }
 },
 "nbformat": 4,
 "nbformat_minor": 5
}
